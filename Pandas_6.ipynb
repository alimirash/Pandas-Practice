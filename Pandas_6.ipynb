{
 "cells": [
  {
   "cell_type": "code",
   "execution_count": 2,
   "id": "86288b18",
   "metadata": {},
   "outputs": [],
   "source": [
    "import numpy as np\n",
    "import pandas as pd\n",
    "import matplotlib.pyplot as plt"
   ]
  },
  {
   "cell_type": "code",
   "execution_count": 18,
   "id": "2868c70e",
   "metadata": {},
   "outputs": [
    {
     "name": "stdout",
     "output_type": "stream",
     "text": [
      "          DATE TYPE  SALES\n",
      "0   2020-01-01    A   1000\n",
      "1   2020-01-01    B    200\n",
      "2   2020-01-01    C    300\n",
      "3   2020-02-01    A    400\n",
      "4   2020-02-01    B   1000\n",
      "5   2020-02-01    C    700\n",
      "6   2020-02-01    B    200\n",
      "7   2020-02-01    A    300\n",
      "8   2020-03-01    B    700\n",
      "9   2020-03-01    B    400\n",
      "10  2020-03-01    C    500\n"
     ]
    },
    {
     "data": {
      "text/plain": [
       "<matplotlib.legend.Legend at 0x1bd7f2a9880>"
      ]
     },
     "execution_count": 18,
     "metadata": {},
     "output_type": "execute_result"
    },
    {
     "data": {
      "image/png": "[encoded data removed]",
      "text/plain": [
       "<Figure size 432x288 with 1 Axes>"
      ]
     },
     "metadata": {
      "needs_background": "light"
     },
     "output_type": "display_data"
    }
   ],
   "source": [
    "# Line Graph , Bar Chart , Scatter Graph\n",
    "# data_scatt = {\n",
    "#     \"Unemployment_Rate\":[6.1,5.8,5.7,5.7,5.8,5.6,5.5,5.3,5.2,5.2],\n",
    "#     \"Stock_index_Price\":[1500,1520,1525,1523,1515,1540,1545,1560,1555,1565]\n",
    "# }\n",
    "\n",
    "#----------------------------------------------\n",
    "\n",
    "# df= pd.DataFrame(data_scatt,columns = [\"Unemployment_Rate\",\"Stock_index_Price\"])\n",
    "# df.plot(x = \"Unemployment_Rate\",y =\"Stock_index_Price\", kind =  \"line\")\n",
    "# plt.show()\n",
    "\n",
    "#----------------------------------------------\n",
    "\n",
    "# data_bar = {\n",
    "#     \"Country\":[\"USA\",\"Canada\",\"Germany\",\"UK\",\"France\"],\n",
    "#     \"GDP_per_Country\":[45000,42000,52000,47000,47000]\n",
    "# }\n",
    "\n",
    "#-----------------------------------------------\n",
    "\n",
    "# df1= pd.DataFrame(data_bar,columns = [\"Country\",\"GDP_per_Country\"])\n",
    "# df1.plot(x = \"Country\",y =\"GDP_per_Country\", kind =  \"bar\")\n",
    "# plt.show()\n",
    "\n",
    "#-----------------------------------------------\n",
    "\n",
    "# data_pie = {\n",
    "#     \"Tasks\" : [40,60,70]\n",
    "# }\n",
    "# explode = (0.1,0,0)\n",
    "# df2 = pd.DataFrame(data_pie , columns = [\"Tasks\"] , index = [\"Tasks Pending\" , \"Task Ongoing\" , \"Task Completed\"])\n",
    "# df2.plot.pie(explode = explode ,y = \"Tasks\",figsize = (8,8),autopct = \"%1.1f%%\" , startangle = 90,shadow = True)\n",
    "# plt.show()\n",
    "\n",
    "#-----------------------------------------------\n",
    "\n",
    "data_stackbar = {\n",
    "    \"DATE\":[\"2020-01-01\",\"2020-01-01\",\"2020-01-01\",\"2020-02-01\",\"2020-02-01\",\"2020-02-01\",\n",
    "     \n",
    "            \"2020-02-01\",\"2020-02-01\",\"2020-03-01\",\"2020-03-01\",\"2020-03-01\"],\n",
    "    \"TYPE\":[\"A\",\"B\",\"C\",\"A\",\"B\",\"C\",\"B\",\"A\",\"B\",\"B\",\"C\"],\n",
    "    \"SALES\":[1000,200,300,400,1000,700,200,300,700,400,500]\n",
    "}\n",
    "\n",
    "df3= pd.DataFrame(data_stackbar,columns = [\"DATE\",\"TYPE\",\"SALES\"])\n",
    "# df3.plot(kind = \"bar\" , x = \"DATE\",y = \"SALES\")\n",
    "# df3.groupby([\"DATE\",\"TYPE\"]).sum().plot(kind = \"bar\")\n",
    "# df3.groupby([\"DATE\",\"TYPE\"]).sum().unstack().plot(kind = \"bar\",y = \"SALES\",stacked = True)\n",
    "a = df3.groupby([\"DATE\",\"TYPE\"]).sum().unstack().fillna(0)\n",
    "fig , ax = plt.subplots()\n",
    "print(df3)\n",
    "\n",
    "\n",
    "colors = [\"#FF69B4\",\"#008080\",\"#A52A2A\"]\n",
    "bottom = np.zeros(len(a))\n",
    "\n",
    "    \n",
    "for i , col in enumerate(a.columns):\n",
    "    ax.bar(a.index,a[col],bottom = bottom,label = col,color = colors[i])\n",
    "    bottom += np.array(a[col])\n",
    "    \n",
    "for bar in ax.patches:\n",
    "    ax.text(\n",
    "        bar.get_x() + bar.get_width()/2,\n",
    "        bar.get_height() + bar.get_y() + 30,\n",
    "        round(bar.get_height()),\n",
    "        ha  = \"center\",\n",
    "        color = \"black\",\n",
    "        weight = \"bold\",\n",
    "        size = 10\n",
    "    )\n",
    "ax.set_title(\"my stack bar chart\")\n",
    "ax.legend()"
   ]
  },
  {
   "cell_type": "code",
   "execution_count": null,
   "id": "a9d3b01e",
   "metadata": {},
   "outputs": [],
   "source": []
  }
 ],
 "metadata": {
  "kernelspec": {
   "display_name": "Python 3 (ipykernel)",
   "language": "python",
   "name": "python3"
  },
  "language_info": {
   "codemirror_mode": {
    "name": "ipython",
    "version": 3
   },
   "file_extension": ".py",
   "mimetype": "text/x-python",
   "name": "python",
   "nbconvert_exporter": "python",
   "pygments_lexer": "ipython3",
   "version": "3.9.7"
  }
 },
 "nbformat": 4,
 "nbformat_minor": 5
}
