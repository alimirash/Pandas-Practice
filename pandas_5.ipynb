{
 "cells": [
  {
   "cell_type": "code",
   "execution_count": 2,
   "id": "0f4fb793",
   "metadata": {},
   "outputs": [],
   "source": [
    "import numpy as np\n",
    "import pandas as pd"
   ]
  },
  {
   "cell_type": "code",
   "execution_count": 35,
   "id": "fd2a86ea",
   "metadata": {},
   "outputs": [
    {
     "data": {
      "text/html": [
       "<div>\n",
       "<style scoped>\n",
       "    .dataframe tbody tr th:only-of-type {\n",
       "        vertical-align: middle;\n",
       "    }\n",
       "\n",
       "    .dataframe tbody tr th {\n",
       "        vertical-align: top;\n",
       "    }\n",
       "\n",
       "    .dataframe thead th {\n",
       "        text-align: right;\n",
       "    }\n",
       "</style>\n",
       "<table border=\"1\" class=\"dataframe\">\n",
       "  <thead>\n",
       "    <tr style=\"text-align: right;\">\n",
       "      <th></th>\n",
       "      <th>Team</th>\n",
       "      <th>Rank</th>\n",
       "      <th>Year</th>\n",
       "      <th>Points</th>\n",
       "    </tr>\n",
       "  </thead>\n",
       "  <tbody>\n",
       "    <tr>\n",
       "      <th>0</th>\n",
       "      <td>A</td>\n",
       "      <td>1</td>\n",
       "      <td>2014</td>\n",
       "      <td>897</td>\n",
       "    </tr>\n",
       "    <tr>\n",
       "      <th>2</th>\n",
       "      <td>C</td>\n",
       "      <td>2</td>\n",
       "      <td>2014</td>\n",
       "      <td>650</td>\n",
       "    </tr>\n",
       "    <tr>\n",
       "      <th>3</th>\n",
       "      <td>D</td>\n",
       "      <td>3</td>\n",
       "      <td>2020</td>\n",
       "      <td>770</td>\n",
       "    </tr>\n",
       "    <tr>\n",
       "      <th>7</th>\n",
       "      <td>H</td>\n",
       "      <td>3</td>\n",
       "      <td>2020</td>\n",
       "      <td>699</td>\n",
       "    </tr>\n",
       "  </tbody>\n",
       "</table>\n",
       "</div>"
      ],
      "text/plain": [
       "  Team  Rank  Year  Points\n",
       "0    A     1  2014     897\n",
       "2    C     2  2014     650\n",
       "3    D     3  2020     770\n",
       "7    H     3  2020     699"
      ]
     },
     "execution_count": 35,
     "metadata": {},
     "output_type": "execute_result"
    }
   ],
   "source": [
    "data = {\n",
    "    \"Team\" : [\"A\",\"B\",\"C\",\"D\",\"E\",\"F\",\"G\",\"H\"],\n",
    "    \"Rank\" : [1,2,2,3,1,4,2,3],\n",
    "    \"Year\" : [2014,2015,2014,2020,2019,2018,2012,2020],\n",
    "    \"Points\":[897,789,650,770,900,820,789,699]\n",
    "}\n",
    "df = pd.DataFrame(data)\n",
    "# df.style.hide_index()\n",
    "# df.to_string(index = False)\n",
    "\n",
    "\n",
    "# Split Data into Groups\n",
    "# df.groupby(\"Team\").groups # df.groupby(\"key\") \n",
    "# df.groupby([\"Year\",\"Team\"]).groups # df.groupby([\"key1\",\"key2\"])\n",
    "\n",
    "\n",
    "#Iteration through groups\n",
    "grouped = df.groupby(\"Year\")\n",
    "# for name,group in grouped:\n",
    "#     print (f\"{name} , {group}\")\n",
    "\n",
    "\n",
    "# print(grouped.get_group(2014))\n",
    "\n",
    "\n",
    "#aggregation Function\n",
    "# print(grouped[\"Points\"].agg(np.mean))\n",
    "# print(grouped[\"Points\"].agg(np.size)) \n",
    "# print(grouped[\"Points\"].count()) #ignore missing value\n",
    "# print(grouped[\"Points\"].agg([np.sum , np.mean , np.std]))\n",
    "\n",
    "\n",
    "#Transformation\n",
    "score = lambda x : x * 2\n",
    "# print(grouped.transform(score))\n",
    "\n",
    "\n",
    "#filteration \n",
    "grouped.filter(lambda x : len(x) >= 2)"
   ]
  },
  {
   "cell_type": "code",
   "execution_count": null,
   "id": "4b3fb3e8",
   "metadata": {},
   "outputs": [],
   "source": []
  }
 ],
 "metadata": {
  "kernelspec": {
   "display_name": "Python 3 (ipykernel)",
   "language": "python",
   "name": "python3"
  },
  "language_info": {
   "codemirror_mode": {
    "name": "ipython",
    "version": 3
   },
   "file_extension": ".py",
   "mimetype": "text/x-python",
   "name": "python",
   "nbconvert_exporter": "python",
   "pygments_lexer": "ipython3",
   "version": "3.9.7"
  }
 },
 "nbformat": 4,
 "nbformat_minor": 5
}
