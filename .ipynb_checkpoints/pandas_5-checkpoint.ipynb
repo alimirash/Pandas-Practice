{
 "cells": [
  {
   "cell_type": "code",
   "execution_count": 1,
   "id": "0f4fb793",
   "metadata": {},
   "outputs": [],
   "source": [
    "import numpy as np\n",
    "import pandas as pd"
   ]
  },
  {
   "cell_type": "code",
   "execution_count": 40,
   "id": "fd2a86ea",
   "metadata": {},
   "outputs": [
    {
     "name": "stdout",
     "output_type": "stream",
     "text": [
      "C\n"
     ]
    }
   ],
   "source": [
    "data = {\n",
    "    \"Team\" : [\"A\",\"B\",\"C\",\"D\",\"E\",\"F\",\"G\",\"H\"],\n",
    "    \"Rank\" : [1,2,2,3,1,4,2,3],\n",
    "    \"Year\" : [2014,2015,2014,2020,2019,2018,2012,2017],\n",
    "    \"Points\":[897,789,650,770,900,820,421,699]\n",
    "}\n",
    "df = pd.DataFrame(data)\n",
    "# df.style.hide_index()\n",
    "# df.to_string(index = False)\n",
    "\n",
    "# Split Data into Groups\n",
    "# df.groupby(\"Team\").groups # df.groupby(\"key\") \n",
    "# df.groupby([\"Year\",\"Team\"]).groups # df.groupby([\"key1\",\"key2\"])\n",
    "\n",
    "#Iteration through groups\n",
    "grouped = df.groupby(\"Year\")\n",
    "# for name,group in grouped:\n",
    "#     print (f\"{name} , {group}\")\n",
    "\n",
    "print(grouped.get_group(2014)[\"Team\"][2])"
   ]
  },
  {
   "cell_type": "code",
   "execution_count": null,
   "id": "4b3fb3e8",
   "metadata": {},
   "outputs": [],
   "source": []
  }
 ],
 "metadata": {
  "kernelspec": {
   "display_name": "Python 3 (ipykernel)",
   "language": "python",
   "name": "python3"
  },
  "language_info": {
   "codemirror_mode": {
    "name": "ipython",
    "version": 3
   },
   "file_extension": ".py",
   "mimetype": "text/x-python",
   "name": "python",
   "nbconvert_exporter": "python",
   "pygments_lexer": "ipython3",
   "version": "3.9.7"
  }
 },
 "nbformat": 4,
 "nbformat_minor": 5
}
