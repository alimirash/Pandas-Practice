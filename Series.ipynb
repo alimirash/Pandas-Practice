{
 "cells": [
  {
   "cell_type": "code",
   "execution_count": 1,
   "id": "cce684ca",
   "metadata": {},
   "outputs": [],
   "source": [
    "import numpy as np\n",
    "import pandas as pd\n",
    "import datetime "
   ]
  },
  {
   "cell_type": "code",
   "execution_count": 2,
   "id": "475c6b18",
   "metadata": {},
   "outputs": [
    {
     "data": {
      "text/plain": [
       "0    1\n",
       "1    2\n",
       "2    3\n",
       "3    4\n",
       "dtype: int64"
      ]
     },
     "execution_count": 2,
     "metadata": {},
     "output_type": "execute_result"
    }
   ],
   "source": [
    "se = pd.Series([1,2,3,4])\n",
    "se"
   ]
  },
  {
   "cell_type": "code",
   "execution_count": 3,
   "id": "d24d9955",
   "metadata": {},
   "outputs": [
    {
     "name": "stdout",
     "output_type": "stream",
     "text": [
      "<class 'pandas.core.series.Series'> <class 'list'>\n",
      "0    1\n",
      "1    2\n",
      "2    3\n",
      "3    4\n",
      "dtype: int64 [1, 2, 3, 4]\n"
     ]
    }
   ],
   "source": [
    "se_list =se.to_list()\n",
    "print(type(se),type(se_list))\n",
    "print(se , se_list)"
   ]
  },
  {
   "cell_type": "code",
   "execution_count": 4,
   "id": "bbe91a93",
   "metadata": {},
   "outputs": [
    {
     "data": {
      "text/html": [
       "<div>\n",
       "<style scoped>\n",
       "    .dataframe tbody tr th:only-of-type {\n",
       "        vertical-align: middle;\n",
       "    }\n",
       "\n",
       "    .dataframe tbody tr th {\n",
       "        vertical-align: top;\n",
       "    }\n",
       "\n",
       "    .dataframe thead th {\n",
       "        text-align: right;\n",
       "    }\n",
       "</style>\n",
       "<table border=\"1\" class=\"dataframe\">\n",
       "  <thead>\n",
       "    <tr style=\"text-align: right;\">\n",
       "      <th></th>\n",
       "      <th>se1</th>\n",
       "      <th>se2</th>\n",
       "      <th>se_plus</th>\n",
       "      <th>se_minus</th>\n",
       "      <th>se_multiply</th>\n",
       "      <th>se_div</th>\n",
       "    </tr>\n",
       "  </thead>\n",
       "  <tbody>\n",
       "    <tr>\n",
       "      <th>0</th>\n",
       "      <td>2</td>\n",
       "      <td>1</td>\n",
       "      <td>3</td>\n",
       "      <td>1</td>\n",
       "      <td>2</td>\n",
       "      <td>2.000000</td>\n",
       "    </tr>\n",
       "    <tr>\n",
       "      <th>1</th>\n",
       "      <td>4</td>\n",
       "      <td>3</td>\n",
       "      <td>7</td>\n",
       "      <td>1</td>\n",
       "      <td>12</td>\n",
       "      <td>1.333333</td>\n",
       "    </tr>\n",
       "    <tr>\n",
       "      <th>2</th>\n",
       "      <td>6</td>\n",
       "      <td>5</td>\n",
       "      <td>11</td>\n",
       "      <td>1</td>\n",
       "      <td>30</td>\n",
       "      <td>1.200000</td>\n",
       "    </tr>\n",
       "    <tr>\n",
       "      <th>3</th>\n",
       "      <td>8</td>\n",
       "      <td>7</td>\n",
       "      <td>15</td>\n",
       "      <td>1</td>\n",
       "      <td>56</td>\n",
       "      <td>1.142857</td>\n",
       "    </tr>\n",
       "    <tr>\n",
       "      <th>4</th>\n",
       "      <td>10</td>\n",
       "      <td>9</td>\n",
       "      <td>19</td>\n",
       "      <td>1</td>\n",
       "      <td>90</td>\n",
       "      <td>1.111111</td>\n",
       "    </tr>\n",
       "  </tbody>\n",
       "</table>\n",
       "</div>"
      ],
      "text/plain": [
       "   se1  se2  se_plus  se_minus  se_multiply    se_div\n",
       "0    2    1        3         1            2  2.000000\n",
       "1    4    3        7         1           12  1.333333\n",
       "2    6    5       11         1           30  1.200000\n",
       "3    8    7       15         1           56  1.142857\n",
       "4   10    9       19         1           90  1.111111"
      ]
     },
     "execution_count": 4,
     "metadata": {},
     "output_type": "execute_result"
    }
   ],
   "source": [
    "se1 = pd.Series([2, 4, 6, 8, 10])\n",
    "se2 = pd.Series([1, 3, 5, 7, 9])\n",
    "se_p = se1 + se2 # plus series\n",
    "se_mi = se1 - se2 # minus series\n",
    "se_mu = se1 * se2 # multiply series\n",
    "se_div = se1 / se2 # divide series\n",
    "\n",
    "# DataFrame \n",
    "ser_calc = {\n",
    "    \"se1\":se1,\n",
    "    \"se2\":se2,\n",
    "    \"se_plus\":se_p,\n",
    "    \"se_minus\":se_mi,\n",
    "    \"se_multiply\":se_mu,\n",
    "    \"se_div\":se_div\n",
    "}\n",
    "df = pd.DataFrame(data =ser_calc)\n",
    "df"
   ]
  },
  {
   "cell_type": "code",
   "execution_count": 5,
   "id": "bbe2965b",
   "metadata": {},
   "outputs": [
    {
     "name": "stdout",
     "output_type": "stream",
     "text": [
      "0    False\n",
      "1    False\n",
      "2    False\n",
      "3    False\n",
      "4    False\n",
      "dtype: bool\n",
      "0    True\n",
      "1    True\n",
      "2    True\n",
      "3    True\n",
      "4    True\n",
      "dtype: bool\n",
      "0    False\n",
      "1    False\n",
      "2    False\n",
      "3    False\n",
      "4    False\n",
      "dtype: bool\n"
     ]
    }
   ],
   "source": [
    "# compare two Series\n",
    "print(se1 == se2)\n",
    "print(se1 > se2)\n",
    "print(se1 < se2)"
   ]
  },
  {
   "cell_type": "code",
   "execution_count": 6,
   "id": "4a57b888",
   "metadata": {},
   "outputs": [
    {
     "data": {
      "text/plain": [
       "Name        [Kimia, Sarah, Dorsa]\n",
       "Family    [Jireh, Frahani, Jamal]\n",
       "Age                  [18, 19, 20]\n",
       "dtype: object"
      ]
     },
     "execution_count": 6,
     "metadata": {},
     "output_type": "execute_result"
    }
   ],
   "source": [
    "# convert dictionary to series in pandas \n",
    "friends = {\n",
    "    \"Name\" : [\"Kimia\",\"Sarah\",\"Dorsa\"],\n",
    "    \"Family\" : [\"Jireh\" , \"Frahani\" , \"Jamal\"],\n",
    "    \"Age\" : [18,19,20]\n",
    "}\n",
    "ser_friends = pd.Series(friends)\n",
    "ser_friends"
   ]
  },
  {
   "cell_type": "code",
   "execution_count": 7,
   "id": "4ed424a9",
   "metadata": {},
   "outputs": [
    {
     "data": {
      "text/plain": [
       "0    2\n",
       "1    3\n",
       "2    4\n",
       "3    5\n",
       "4    6\n",
       "5    7\n",
       "6    8\n",
       "7    9\n",
       "dtype: int32"
      ]
     },
     "execution_count": 7,
     "metadata": {},
     "output_type": "execute_result"
    }
   ],
   "source": [
    "# convert a NumPy array to a Pandas series\n",
    "ar = np.arange(2,10)\n",
    "ser_np = pd.Series(ar)\n",
    "ser_np"
   ]
  },
  {
   "cell_type": "code",
   "execution_count": 8,
   "id": "6b43abba",
   "metadata": {},
   "outputs": [
    {
     "data": {
      "text/plain": [
       "0    Kimia\n",
       "1    Sarah\n",
       "2    Dorsa\n",
       "Name: Name, dtype: object"
      ]
     },
     "execution_count": 8,
     "metadata": {},
     "output_type": "execute_result"
    }
   ],
   "source": [
    "# convert the a column of a DataFrame as a series\n",
    "df_firends = pd.DataFrame(friends)\n",
    "friends_Names = pd.Series(df_firends[\"Name\"])\n",
    "friends_Names"
   ]
  },
  {
   "cell_type": "code",
   "execution_count": 9,
   "id": "ac65ef56",
   "metadata": {},
   "outputs": [
    {
     "data": {
      "text/plain": [
       "array(['python', 'java', 'Django', 'Kotlin'], dtype='<U6')"
      ]
     },
     "execution_count": 9,
     "metadata": {},
     "output_type": "execute_result"
    }
   ],
   "source": [
    "# convert a given Series to an array\n",
    "favorite_lang = pd.Series([\"python\",\"java\",\"Django\",\"Kotlin\"])\n",
    "np.array(favorite_lang.values.tolist())"
   ]
  },
  {
   "cell_type": "code",
   "execution_count": 10,
   "id": "ac3fad9b",
   "metadata": {},
   "outputs": [
    {
     "data": {
      "text/plain": [
       "0       100\n",
       "1       200\n",
       "3    300.12\n",
       "4       400\n",
       "2    python\n",
       "dtype: object"
      ]
     },
     "execution_count": 10,
     "metadata": {},
     "output_type": "execute_result"
    }
   ],
   "source": [
    "# sort a given Series\n",
    "ex_sort = pd.Series(['100', '200', 'python', '300.12', '400'])\n",
    "ex_sort = ex_sort.sort_values()\n",
    "ex_sort"
   ]
  },
  {
   "cell_type": "code",
   "execution_count": 11,
   "id": "e5626aba",
   "metadata": {},
   "outputs": [
    {
     "data": {
      "text/plain": [
       "0        ali\n",
       "1     mirash\n",
       "2         20\n",
       "3    student\n",
       "dtype: object"
      ]
     },
     "execution_count": 11,
     "metadata": {},
     "output_type": "execute_result"
    }
   ],
   "source": [
    "# add some data to an existing Series\n",
    "data_1 = pd.Series([\"ali\",'mirash',20])\n",
    "data_2 = pd.Series([\"student\"])\n",
    "pd.concat([data_1,data_2],ignore_index = True)"
   ]
  },
  {
   "cell_type": "code",
   "execution_count": 12,
   "id": "2e41f58b",
   "metadata": {},
   "outputs": [
    {
     "data": {
      "text/plain": [
       "0    Data Structure\n",
       "1       Data Mining\n",
       "dtype: object"
      ]
     },
     "execution_count": 12,
     "metadata": {},
     "output_type": "execute_result"
    }
   ],
   "source": [
    "# create a subset of a given series based on value and condition\n",
    "books = pd.Series([\"Data Structure\",\"Data Mining\",\"Python\",\"Java\"])\n",
    "books[books.str.len() < 7]\n",
    "books[0:2]"
   ]
  },
  {
   "cell_type": "code",
   "execution_count": 13,
   "id": "f7966801",
   "metadata": {},
   "outputs": [
    {
     "data": {
      "text/plain": [
       "5    F\n",
       "2    C\n",
       "3    D\n",
       "4    E\n",
       "6    J\n",
       "1    B\n",
       "0    A\n",
       "dtype: object"
      ]
     },
     "execution_count": 13,
     "metadata": {},
     "output_type": "execute_result"
    }
   ],
   "source": [
    "# change the order of index of a given series\n",
    "alphabet = pd.Series([\"A\",\"B\",\"C\",\"D\",\"E\",\"F\",\"J\"])\n",
    "alphabet.reindex(index = [5,2,3,4,6,1,0])"
   ]
  },
  {
   "cell_type": "code",
   "execution_count": 14,
   "id": "fb6cc31c",
   "metadata": {},
   "outputs": [
    {
     "name": "stdout",
     "output_type": "stream",
     "text": [
      "mean of the grades: 17.814\n",
      "Standard devision of grades: 1.7521428150822764\n"
     ]
    }
   ],
   "source": [
    "#  create the mean and standard deviation of the data of a given Series\n",
    "grades = pd.Series([17,18.63,14.80,15,17.75,18.5,20,19.25,19.21,18])\n",
    "print(f\"mean of the grades: {grades.mean()}\")\n",
    "print(f\"Standard devision of grades: {grades.std()}\")"
   ]
  },
  {
   "cell_type": "code",
   "execution_count": 15,
   "id": "e0fbe4af",
   "metadata": {},
   "outputs": [
    {
     "data": {
      "text/plain": [
       "0    23\n",
       "3    80\n",
       "4    20\n",
       "dtype: int64"
      ]
     },
     "execution_count": 15,
     "metadata": {},
     "output_type": "execute_result"
    }
   ],
   "source": [
    "# get the items of a given series not present in another given series\n",
    "price_1 = pd.Series([23,62,15,80,20])\n",
    "price_2 = pd.Series([62,15,97,84,63])\n",
    "res = price_1[~price_1.isin(price_2)]\n",
    "res"
   ]
  },
  {
   "cell_type": "code",
   "execution_count": 16,
   "id": "6160d728",
   "metadata": {},
   "outputs": [
    {
     "data": {
      "text/plain": [
       "0     34\n",
       "1     52\n",
       "2     58\n",
       "4     68\n",
       "5     75\n",
       "6     82\n",
       "7     90\n",
       "8    100\n",
       "dtype: int64"
      ]
     },
     "execution_count": 16,
     "metadata": {},
     "output_type": "execute_result"
    }
   ],
   "source": [
    "# get the items which are not common of two given series\n",
    "score_1 = pd.Series([82,34,67,100,52])\n",
    "score_2 = pd.Series([75,68,90,67,58])\n",
    "# not_both = pd.concat([score_1[~score_1.isin(score_2)],score_2[~score_2.isin(score_1)]],ignore_index = True) # method_1\n",
    "scr1 = pd.Series(np.union1d(score_1,score_2))\n",
    "scr2 = pd.Series(np.intersect1d(score_1,score_2))\n",
    "not_both = scr1[~scr1.isin(scr2)]\n",
    "not_both"
   ]
  },
  {
   "cell_type": "code",
   "execution_count": 17,
   "id": "e83ea7e8",
   "metadata": {},
   "outputs": [
    {
     "data": {
      "text/plain": [
       "array([ 3.00093811,  5.09338398,  7.18582986,  9.27827574, 11.37072161])"
      ]
     },
     "execution_count": 17,
     "metadata": {},
     "output_type": "execute_result"
    }
   ],
   "source": [
    "# compute the minimum, 25th percentile, median, 75th, and maximum of a given series\n",
    "num_state = np.random.RandomState(100)\n",
    "num_ser = pd.Series(num_state.normal(10,4,2))\n",
    "# print(num_ser.describe()) # method 1\n",
    "result = np.percentile(num_ser , [0,25,50,75,100])\n",
    "result"
   ]
  },
  {
   "cell_type": "code",
   "execution_count": 18,
   "id": "86314b95",
   "metadata": {},
   "outputs": [
    {
     "data": {
      "text/plain": [
       "'Other'"
      ]
     },
     "execution_count": 18,
     "metadata": {},
     "output_type": "execute_result"
    }
   ],
   "source": [
    "# display most frequent value in a given series and replace everything else as 'Other' in the series😕\n",
    "fre_num = pd.Series(np.random.randint(1,5,size = [15]))\n",
    "val_count = fre_num.value_counts()\n",
    "ress = fre_num[~fre_num.isin(val_count[:1].index)] = \"Other\"\n",
    "ress #😕"
   ]
  },
  {
   "cell_type": "code",
   "execution_count": 19,
   "id": "a2df866b",
   "metadata": {},
   "outputs": [
    {
     "data": {
      "text/plain": [
       "(array([13, 14], dtype=int64),)"
      ]
     },
     "execution_count": 19,
     "metadata": {},
     "output_type": "execute_result"
    }
   ],
   "source": [
    "# Find the positions of numbers that are multiples of 5 of a given series\n",
    "mult_num = pd.Series(np.random.randint(1,9,size = [15]))\n",
    "lmul = np.where(mult_num % 5 == 0)\n",
    "lmul"
   ]
  },
  {
   "cell_type": "code",
   "execution_count": 20,
   "id": "ac68af6c",
   "metadata": {},
   "outputs": [
    {
     "data": {
      "text/plain": [
       "6     5\n",
       "8     1\n",
       "2     0\n",
       "4     4\n",
       "16    5\n",
       "dtype: int32"
      ]
     },
     "execution_count": 20,
     "metadata": {},
     "output_type": "execute_result"
    }
   ],
   "source": [
    "# extract items at given positions of a given series\n",
    "ex_ser = pd.Series(np.random.randint(0,9,size = 21))\n",
    "ex_num = ex_ser.take([6,8,2,4,16])\n",
    "ex_num"
   ]
  },
  {
   "cell_type": "code",
   "execution_count": 21,
   "id": "d51b43b6",
   "metadata": {},
   "outputs": [
    {
     "data": {
      "text/plain": [
       "[0, 1, 4, 6, 8]"
      ]
     },
     "execution_count": 21,
     "metadata": {},
     "output_type": "execute_result"
    }
   ],
   "source": [
    "# get the positions of items of a given series in another given series\n",
    "num_1 = pd.Series(np.arange(1,11))\n",
    "num_2 = pd.Series([5,9,2,7,1])\n",
    "ss = num_1[num_1.isin(num_2)].index.to_list()\n",
    "# result = [pd.Index(num_1).get_loc(i) for i in num_2] # method 2\n",
    "ss"
   ]
  },
  {
   "cell_type": "code",
   "execution_count": 22,
   "id": "611190af",
   "metadata": {},
   "outputs": [
    {
     "data": {
      "text/plain": [
       "0        PythoN\n",
       "1          JavA\n",
       "2           PhP\n",
       "3            C#\n",
       "4        KotliN\n",
       "5    JavascripT\n",
       "dtype: object"
      ]
     },
     "execution_count": 22,
     "metadata": {},
     "output_type": "execute_result"
    }
   ],
   "source": [
    "# convert the first and last character of each word to upper case in each word of a given series\n",
    "language = pd.Series([\"python\",\"java\",\"php\",\"c#\",\"kotlin\",\"javascript\"])\n",
    "up_ch = language.map(lambda x: x[0].upper() + x[1:-1] + x[-1].upper()) \n",
    "up_ch"
   ]
  },
  {
   "cell_type": "code",
   "execution_count": 23,
   "id": "a3c6afba",
   "metadata": {},
   "outputs": [
    {
     "data": {
      "text/plain": [
       "0     6\n",
       "1     4\n",
       "2     3\n",
       "3     2\n",
       "4     6\n",
       "5    10\n",
       "dtype: int64"
      ]
     },
     "execution_count": 23,
     "metadata": {},
     "output_type": "execute_result"
    }
   ],
   "source": [
    "# calculate the number of characters in each word in a given series\n",
    "language = pd.Series([\"python\",\"java\",\"php\",\"c#\",\"kotlin\",\"javascript\"])\n",
    "len_ch = language.map(lambda x : len(x))\n",
    "len_ch"
   ]
  },
  {
   "cell_type": "code",
   "execution_count": 24,
   "id": "874bded2",
   "metadata": {},
   "outputs": [
    {
     "data": {
      "text/plain": [
       "([nan, 22.0, -9.0, -28.0, 9.0, 9.0], [nan, nan, -31.0, -19.0, 37.0, 0.0])"
      ]
     },
     "execution_count": 24,
     "metadata": {},
     "output_type": "execute_result"
    }
   ],
   "source": [
    "# compute difference of differences between consecutive numbers of a given series\n",
    "school_num = pd.Series([25,47,38,10,19,28])\n",
    "dif1 = school_num.diff().to_list()\n",
    "dif2 = school_num.diff().diff().to_list()\n",
    "dif1,dif2"
   ]
  },
  {
   "cell_type": "code",
   "execution_count": 25,
   "id": "e9b89567",
   "metadata": {},
   "outputs": [
    {
     "data": {
      "text/plain": [
       "[1, 2, 7, 6, 12, 6]"
      ]
     },
     "execution_count": 25,
     "metadata": {},
     "output_type": "execute_result"
    }
   ],
   "source": [
    "# convert a series of date strings to a timeseries\n",
    "times = pd.Series([\"01 Jan 2015\",\"10-02-2016\",\"20180307\",\"2014/05/06\",\"2016-04-12\",\"2019-04-06T11:20\"])\n",
    "pd.to_datetime(times)\n",
    "\n",
    "# get the day of month, day of year, week number and day of week from a given series of date strings\n",
    "from dateutil.parser import parse\n",
    "times = times.map(lambda x: parse(x))\n",
    "days = times.dt.day.tolist()\n",
    "days"
   ]
  },
  {
   "cell_type": "code",
   "execution_count": 26,
   "id": "bd7e87cd",
   "metadata": {},
   "outputs": [
    {
     "data": {
      "text/plain": [
       "1     Green\n",
       "2    Orange\n",
       "4    Yellow\n",
       "5     White\n",
       "dtype: object"
      ]
     },
     "execution_count": 26,
     "metadata": {},
     "output_type": "execute_result"
    }
   ],
   "source": [
    "# filter words from a given series that contain atleast two vowels\n",
    "from collections import Counter\n",
    "color_series = pd.Series(['Red', 'Green', 'Orange', 'Pink', 'Yellow', 'White'])\n",
    "result = mask = color_series.map(lambda c: sum([Counter(c.lower()).get(i, 0) for i in list('aeiou')]) >= 2)\n",
    "color_series[result]"
   ]
  },
  {
   "cell_type": "code",
   "execution_count": 27,
   "id": "6e3707d8",
   "metadata": {},
   "outputs": [
    {
     "data": {
      "text/plain": [
       "22.80350850198276"
      ]
     },
     "execution_count": 27,
     "metadata": {},
     "output_type": "execute_result"
    }
   ],
   "source": [
    "# compute the Euclidean distance between two given series\n",
    "x = pd.Series([6,8,2,11,2,7,3,9,2])\n",
    "y = pd.Series([2,8,6,4,11,25,3,6,7])\n",
    "res = np.linalg.norm(x-y)\n",
    "res"
   ]
  },
  {
   "cell_type": "code",
   "execution_count": 50,
   "id": "a9821fe5",
   "metadata": {},
   "outputs": [
    {
     "data": {
      "text/plain": [
       "0    a\n",
       "1    b\n",
       "2    c\n",
       "3    i\n",
       "4    d\n",
       "dtype: object"
      ]
     },
     "execution_count": 50,
     "metadata": {},
     "output_type": "execute_result"
    }
   ],
   "source": [
    "# replace missing white spaces in a given string with the least frequent character\n",
    "alpha_ser = pd.Series(list(\"abc dead acdi\"))\n",
    "frg = alpha_ser.value_counts()\n",
    "res = alpha_ser.replace({\" \":frg.index[-1]})\n",
    "res.head()"
   ]
  },
  {
   "cell_type": "code",
   "execution_count": 49,
   "id": "907817e6",
   "metadata": {},
   "outputs": [
    {
     "data": {
      "text/plain": [
       "0   2020-01-05\n",
       "1   2020-01-12\n",
       "2   2020-01-19\n",
       "3   2020-01-26\n",
       "4   2020-02-02\n",
       "dtype: datetime64[ns]"
      ]
     },
     "execution_count": 49,
     "metadata": {},
     "output_type": "execute_result"
    }
   ],
   "source": [
    "# create a TimeSeries to display all the Sundays of given year\n",
    "time_ser = pd.Series(pd.date_range(\"2020-01-05\" ,periods=52 , freq='W-SUN'))\n",
    "time_ser.head()"
   ]
  },
  {
   "cell_type": "code",
   "execution_count": 72,
   "id": "9afcdf19",
   "metadata": {},
   "outputs": [
    {
     "data": {
      "text/html": [
       "<div>\n",
       "<style scoped>\n",
       "    .dataframe tbody tr th:only-of-type {\n",
       "        vertical-align: middle;\n",
       "    }\n",
       "\n",
       "    .dataframe tbody tr th {\n",
       "        vertical-align: top;\n",
       "    }\n",
       "\n",
       "    .dataframe thead th {\n",
       "        text-align: right;\n",
       "    }\n",
       "</style>\n",
       "<table border=\"1\" class=\"dataframe\">\n",
       "  <thead>\n",
       "    <tr style=\"text-align: right;\">\n",
       "      <th></th>\n",
       "      <th>split_name</th>\n",
       "      <th>index</th>\n",
       "    </tr>\n",
       "  </thead>\n",
       "  <tbody>\n",
       "    <tr>\n",
       "      <th>0</th>\n",
       "      <td>A</td>\n",
       "      <td>0</td>\n",
       "    </tr>\n",
       "    <tr>\n",
       "      <th>1</th>\n",
       "      <td>L</td>\n",
       "      <td>1</td>\n",
       "    </tr>\n",
       "    <tr>\n",
       "      <th>2</th>\n",
       "      <td>I</td>\n",
       "      <td>2</td>\n",
       "    </tr>\n",
       "  </tbody>\n",
       "</table>\n",
       "</div>"
      ],
      "text/plain": [
       "  split_name  index\n",
       "0          A      0\n",
       "1          L      1\n",
       "2          I      2"
      ]
     },
     "execution_count": 72,
     "metadata": {},
     "output_type": "execute_result"
    }
   ],
   "source": [
    "# convert given series into a dataframe with its index as another column on the dataframe\n",
    "split_myName = pd.Series([\"A\",\"L\",\"I\"])\n",
    "len_name = np.arange(len(split_myName))\n",
    "df_n = pd.DataFrame({\"split_name\":split_myName , \"index\":len_name})\n",
    "df_n"
   ]
  },
  {
   "cell_type": "code",
   "execution_count": 71,
   "id": "3069dca0",
   "metadata": {},
   "outputs": [
    {
     "data": {
      "text/plain": [
       "0    False\n",
       "1    False\n",
       "2     True\n",
       "3    False\n",
       "4     True\n",
       "5    False\n",
       "6    False\n",
       "7    False\n",
       "8    False\n",
       "dtype: bool"
      ]
     },
     "execution_count": 71,
     "metadata": {},
     "output_type": "execute_result"
    }
   ],
   "source": [
    "# check the equality of two given series\n",
    "Number1 = pd.Series([3,9,8,9,3,1,7,9,5])\n",
    "Number2 = pd.Series([9,3,8,4,3,5,6,7,0])\n",
    "Number1 == Number2"
   ]
  },
  {
   "cell_type": "code",
   "execution_count": 65,
   "id": "e59c3ca1",
   "metadata": {},
   "outputs": [
    {
     "data": {
      "text/plain": [
       "(14, 9)"
      ]
     },
     "execution_count": 65,
     "metadata": {},
     "output_type": "execute_result"
    }
   ],
   "source": [
    "# find the index of the first occurrence of the smallest and largest value of a given series\n",
    "num_ran = pd.Series(np.random.randint(0,99,35))\n",
    "num_ran.idxmin() , num_ran.idxmax()"
   ]
  },
  {
   "cell_type": "code",
   "execution_count": 83,
   "id": "df303b45",
   "metadata": {},
   "outputs": [
    {
     "data": {
      "text/html": [
       "<div>\n",
       "<style scoped>\n",
       "    .dataframe tbody tr th:only-of-type {\n",
       "        vertical-align: middle;\n",
       "    }\n",
       "\n",
       "    .dataframe tbody tr th {\n",
       "        vertical-align: top;\n",
       "    }\n",
       "\n",
       "    .dataframe thead th {\n",
       "        text-align: right;\n",
       "    }\n",
       "</style>\n",
       "<table border=\"1\" class=\"dataframe\">\n",
       "  <thead>\n",
       "    <tr style=\"text-align: right;\">\n",
       "      <th></th>\n",
       "      <th>W</th>\n",
       "      <th>X</th>\n",
       "      <th>Y</th>\n",
       "      <th>Z</th>\n",
       "    </tr>\n",
       "  </thead>\n",
       "  <tbody>\n",
       "    <tr>\n",
       "      <th>0</th>\n",
       "      <td>False</td>\n",
       "      <td>True</td>\n",
       "      <td>True</td>\n",
       "      <td>True</td>\n",
       "    </tr>\n",
       "    <tr>\n",
       "      <th>1</th>\n",
       "      <td>False</td>\n",
       "      <td>False</td>\n",
       "      <td>True</td>\n",
       "      <td>True</td>\n",
       "    </tr>\n",
       "    <tr>\n",
       "      <th>2</th>\n",
       "      <td>False</td>\n",
       "      <td>True</td>\n",
       "      <td>True</td>\n",
       "      <td>True</td>\n",
       "    </tr>\n",
       "    <tr>\n",
       "      <th>3</th>\n",
       "      <td>False</td>\n",
       "      <td>False</td>\n",
       "      <td>True</td>\n",
       "      <td>True</td>\n",
       "    </tr>\n",
       "    <tr>\n",
       "      <th>4</th>\n",
       "      <td>True</td>\n",
       "      <td>True</td>\n",
       "      <td>True</td>\n",
       "      <td>True</td>\n",
       "    </tr>\n",
       "  </tbody>\n",
       "</table>\n",
       "</div>"
      ],
      "text/plain": [
       "       W      X     Y     Z\n",
       "0  False   True  True  True\n",
       "1  False  False  True  True\n",
       "2  False   True  True  True\n",
       "3  False  False  True  True\n",
       "4   True   True  True  True"
      ]
     },
     "execution_count": 83,
     "metadata": {},
     "output_type": "execute_result"
    }
   ],
   "source": [
    "# check inequality over the index axis of a given dataframe and a given series\n",
    "df_ch = pd.DataFrame({\n",
    "    \"W\" : [68,75,86,80,None],\n",
    "    \"X\" : [78,75,None,80,86],\n",
    "    \"Y\" : [84,94,89,86,86],\n",
    "    \"Z\" : [86,97,96,72,83]\n",
    "})\n",
    "ser_ch = pd.Series([68, 75, 86, 80, None])\n",
    "df_ch.ne(ser_ch , axis = 0)"
   ]
  }
 ],
 "metadata": {
  "kernelspec": {
   "display_name": "Python 3 (ipykernel)",
   "language": "python",
   "name": "python3"
  },
  "language_info": {
   "codemirror_mode": {
    "name": "ipython",
    "version": 3
   },
   "file_extension": ".py",
   "mimetype": "text/x-python",
   "name": "python",
   "nbconvert_exporter": "python",
   "pygments_lexer": "ipython3",
   "version": "3.9.7"
  }
 },
 "nbformat": 4,
 "nbformat_minor": 5
}
